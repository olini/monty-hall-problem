{
 "cells": [
  {
   "cell_type": "code",
   "execution_count": 4,
   "id": "b18e6c57",
   "metadata": {
    "execution": {
     "iopub.execute_input": "2021-07-06T12:01:43.613444Z",
     "iopub.status.busy": "2021-07-06T12:01:43.612806Z",
     "iopub.status.idle": "2021-07-06T12:01:43.866131Z",
     "shell.execute_reply": "2021-07-06T12:01:43.865589Z",
     "shell.execute_reply.started": "2021-07-06T12:01:43.613354Z"
    }
   },
   "outputs": [],
   "source": [
    "import random\n",
    "import numpy as np\n",
    "from matplotlib import pyplot as plt"
   ]
  },
  {
   "cell_type": "code",
   "execution_count": 5,
   "id": "c95eb53d",
   "metadata": {
    "execution": {
     "iopub.execute_input": "2021-07-06T12:01:49.462779Z",
     "iopub.status.busy": "2021-07-06T12:01:49.461998Z",
     "iopub.status.idle": "2021-07-06T12:01:51.273159Z",
     "shell.execute_reply": "2021-07-06T12:01:51.272525Z",
     "shell.execute_reply.started": "2021-07-06T12:01:49.462712Z"
    }
   },
   "outputs": [],
   "source": [
    "# seta semente para gerar numeros aleatorios\n",
    "random.seed(42)\n",
    "\n",
    "numero_experimentos = 2000\n",
    "\n",
    "portas = [1, 2, 3]\n",
    "\n",
    "probabilidade_vitoria = []\n",
    "numero_experimento = []\n",
    "\n",
    "for i in range(0, numero_experimentos):\n",
    "    vitoria = 0\n",
    "    # realiza a escolha de portas i vezes\n",
    "    for j in range(i+1):\n",
    "        porta_escolhida = random.choice(portas)\n",
    "        porta_carro = random.choice(portas)\n",
    "        # vamos calcular a probabilidade de ganhar se sempre trocarmos de porta\n",
    "        if porta_escolhida != porta_carro:\n",
    "            vitoria = vitoria + 1\n",
    "    \n",
    "    probabilidade_vitoria.append(vitoria/(i+1))\n",
    "    numero_experimento.append(i+1)\n",
    "    "
   ]
  },
  {
   "cell_type": "code",
   "execution_count": 6,
   "id": "48317ca1",
   "metadata": {
    "execution": {
     "iopub.execute_input": "2021-07-06T12:02:37.153262Z",
     "iopub.status.busy": "2021-07-06T12:02:37.151520Z",
     "iopub.status.idle": "2021-07-06T12:02:37.404368Z",
     "shell.execute_reply": "2021-07-06T12:02:37.403692Z",
     "shell.execute_reply.started": "2021-07-06T12:02:37.153206Z"
    }
   },
   "outputs": [
    {
     "data": {
      "text/plain": [
       "[<matplotlib.lines.Line2D at 0x7fd6816d83d0>]"
      ]
     },
     "execution_count": 6,
     "metadata": {},
     "output_type": "execute_result"
    },
    {
     "data": {
      "image/png": "[encoded data removed]",
      "text/plain": [
       "<Figure size 432x288 with 1 Axes>"
      ]
     },
     "metadata": {
      "needs_background": "light"
     },
     "output_type": "display_data"
    }
   ],
   "source": [
    "plt.plot(numero_experimento, probabilidade_vitoria)"
   ]
  },
  {
   "cell_type": "code",
   "execution_count": null,
   "id": "74bb3047",
   "metadata": {},
   "outputs": [],
   "source": []
  }
 ],
 "metadata": {
  "kernelspec": {
   "display_name": "Python 3 (ipykernel)",
   "language": "python",
   "name": "python3"
  },
  "language_info": {
   "codemirror_mode": {
    "name": "ipython",
    "version": 3
   },
   "file_extension": ".py",
   "mimetype": "text/x-python",
   "name": "python",
   "nbconvert_exporter": "python",
   "pygments_lexer": "ipython3",
   "version": "3.8.10"
  }
 },
 "nbformat": 4,
 "nbformat_minor": 5
}
